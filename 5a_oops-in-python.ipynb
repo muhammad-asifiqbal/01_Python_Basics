{
 "cells": [
  {
   "cell_type": "markdown",
   "metadata": {},
   "source": [
    "# Object Oriented Programming"
   ]
  },
  {
   "cell_type": "markdown",
   "metadata": {},
   "source": [
    "In the context of Object-Oriented Programming (OOP), a blueprint refers to a template or a design plan that defines the structure and behavior of objects"
   ]
  },
  {
   "cell_type": "code",
   "execution_count": null,
   "metadata": {},
   "outputs": [],
   "source": []
  },
  {
   "cell_type": "code",
   "execution_count": 47,
   "metadata": {
    "execution": {
     "iopub.execute_input": "2024-08-19T15:13:35.279534Z",
     "iopub.status.busy": "2024-08-19T15:13:35.279118Z",
     "iopub.status.idle": "2024-08-19T15:13:35.287447Z",
     "shell.execute_reply": "2024-08-19T15:13:35.286322Z",
     "shell.execute_reply.started": "2024-08-19T15:13:35.279494Z"
    },
    "trusted": true
   },
   "outputs": [
    {
     "data": {
      "text/plain": [
       "{}"
      ]
     },
     "execution_count": 47,
     "metadata": {},
     "output_type": "execute_result"
    }
   ],
   "source": [
    "class Employee:\n",
    "    #attributes \n",
    "    #methods\n",
    "    pass\n",
    "e1=Employee()\n",
    "e2=Employee()\n",
    "e2.__dict__\n",
    "    "
   ]
  },
  {
   "cell_type": "code",
   "execution_count": 1,
   "metadata": {
    "execution": {
     "iopub.execute_input": "2024-08-18T13:22:14.677780Z",
     "iopub.status.busy": "2024-08-18T13:22:14.677287Z",
     "iopub.status.idle": "2024-08-18T13:22:14.684326Z",
     "shell.execute_reply": "2024-08-18T13:22:14.682947Z",
     "shell.execute_reply.started": "2024-08-18T13:22:14.677741Z"
    },
    "trusted": true
   },
   "outputs": [],
   "source": [
    "class Employee:\n",
    "    def __init__(self):\n",
    "        self.name='kiran'\n",
    "        self.age=27\n",
    "        \n"
   ]
  },
  {
   "cell_type": "code",
   "execution_count": 49,
   "metadata": {
    "execution": {
     "iopub.execute_input": "2024-08-18T13:22:26.255015Z",
     "iopub.status.busy": "2024-08-18T13:22:26.254551Z",
     "iopub.status.idle": "2024-08-18T13:22:26.265038Z",
     "shell.execute_reply": "2024-08-18T13:22:26.263541Z",
     "shell.execute_reply.started": "2024-08-18T13:22:26.254973Z"
    },
    "trusted": true
   },
   "outputs": [
    {
     "data": {
      "text/plain": [
       "{'name': 'kiran', 'age': 27}"
      ]
     },
     "execution_count": 49,
     "metadata": {},
     "output_type": "execute_result"
    }
   ],
   "source": [
    "e1=Employee()\n",
    "e1.__dict__"
   ]
  },
  {
   "cell_type": "code",
   "execution_count": 50,
   "metadata": {
    "execution": {
     "iopub.execute_input": "2024-08-18T13:23:28.875985Z",
     "iopub.status.busy": "2024-08-18T13:23:28.875514Z",
     "iopub.status.idle": "2024-08-18T13:23:28.883157Z",
     "shell.execute_reply": "2024-08-18T13:23:28.881394Z",
     "shell.execute_reply.started": "2024-08-18T13:23:28.875938Z"
    },
    "trusted": true
   },
   "outputs": [],
   "source": [
    "class Employee:\n",
    "    def __init__(self,name,age):\n",
    "        self.name= name\n",
    "        self.age=age\n",
    "    \n",
    "        "
   ]
  },
  {
   "cell_type": "code",
   "execution_count": 51,
   "metadata": {
    "execution": {
     "iopub.execute_input": "2024-08-18T13:23:30.230736Z",
     "iopub.status.busy": "2024-08-18T13:23:30.229794Z",
     "iopub.status.idle": "2024-08-18T13:23:30.238635Z",
     "shell.execute_reply": "2024-08-18T13:23:30.235930Z",
     "shell.execute_reply.started": "2024-08-18T13:23:30.230692Z"
    },
    "trusted": true
   },
   "outputs": [],
   "source": [
    "e1=Employee('kainat',24)"
   ]
  },
  {
   "cell_type": "code",
   "execution_count": 52,
   "metadata": {
    "execution": {
     "iopub.execute_input": "2024-08-18T13:24:05.051991Z",
     "iopub.status.busy": "2024-08-18T13:24:05.051496Z",
     "iopub.status.idle": "2024-08-18T13:24:05.058050Z",
     "shell.execute_reply": "2024-08-18T13:24:05.056502Z",
     "shell.execute_reply.started": "2024-08-18T13:24:05.051944Z"
    },
    "trusted": true
   },
   "outputs": [],
   "source": [
    "class Employee:\n",
    "    pass\n"
   ]
  },
  {
   "cell_type": "code",
   "execution_count": 53,
   "metadata": {
    "execution": {
     "iopub.execute_input": "2024-08-18T13:24:06.264458Z",
     "iopub.status.busy": "2024-08-18T13:24:06.264031Z",
     "iopub.status.idle": "2024-08-18T13:24:06.270858Z",
     "shell.execute_reply": "2024-08-18T13:24:06.269530Z",
     "shell.execute_reply.started": "2024-08-18T13:24:06.264423Z"
    },
    "trusted": true
   },
   "outputs": [],
   "source": [
    "e2=Employee()"
   ]
  },
  {
   "cell_type": "code",
   "execution_count": 54,
   "metadata": {
    "execution": {
     "iopub.execute_input": "2024-08-18T13:24:17.209371Z",
     "iopub.status.busy": "2024-08-18T13:24:17.208972Z",
     "iopub.status.idle": "2024-08-18T13:24:17.217038Z",
     "shell.execute_reply": "2024-08-18T13:24:17.215804Z",
     "shell.execute_reply.started": "2024-08-18T13:24:17.209342Z"
    },
    "trusted": true
   },
   "outputs": [
    {
     "data": {
      "text/plain": [
       "{}"
      ]
     },
     "execution_count": 54,
     "metadata": {},
     "output_type": "execute_result"
    }
   ],
   "source": [
    "e2.__dict__"
   ]
  },
  {
   "cell_type": "code",
   "execution_count": null,
   "metadata": {},
   "outputs": [],
   "source": []
  },
  {
   "cell_type": "code",
   "execution_count": 55,
   "metadata": {
    "execution": {
     "iopub.execute_input": "2024-08-18T13:27:53.655543Z",
     "iopub.status.busy": "2024-08-18T13:27:53.654948Z",
     "iopub.status.idle": "2024-08-18T13:27:53.671472Z",
     "shell.execute_reply": "2024-08-18T13:27:53.667432Z",
     "shell.execute_reply.started": "2024-08-18T13:27:53.655448Z"
    },
    "trusted": true
   },
   "outputs": [],
   "source": [
    "class Employee:\n",
    "    def __init__(self,name,age):\n",
    "        self.name= name\n",
    "        self.age=age\n",
    "    \n",
    "    \n",
    "    \n",
    "    \n",
    "    \n",
    "e3 = Employee('Bilal',42)\n",
    "e4 = Employee('haroon',30)"
   ]
  },
  {
   "cell_type": "code",
   "execution_count": null,
   "metadata": {},
   "outputs": [],
   "source": []
  },
  {
   "cell_type": "code",
   "execution_count": 56,
   "metadata": {
    "execution": {
     "iopub.execute_input": "2024-08-18T13:30:39.420544Z",
     "iopub.status.busy": "2024-08-18T13:30:39.420056Z",
     "iopub.status.idle": "2024-08-18T13:30:39.428764Z",
     "shell.execute_reply": "2024-08-18T13:30:39.427189Z",
     "shell.execute_reply.started": "2024-08-18T13:30:39.420471Z"
    },
    "trusted": true
   },
   "outputs": [],
   "source": [
    "class Employee:\n",
    "    def __init__(self,name,age):\n",
    "        self.name= name\n",
    "        self.age=age\n",
    "        \n",
    "    def display(self):\n",
    "        print(f'name is {self.name},age is {self.age}:')\n",
    "\n",
    "\n",
    "e3=Employee('Bilal',42)\n",
    "e4= Employee('haroon',30)"
   ]
  },
  {
   "cell_type": "code",
   "execution_count": 57,
   "metadata": {
    "execution": {
     "iopub.execute_input": "2024-08-18T13:30:27.109975Z",
     "iopub.status.busy": "2024-08-18T13:30:27.109568Z",
     "iopub.status.idle": "2024-08-18T13:30:27.119453Z",
     "shell.execute_reply": "2024-08-18T13:30:27.117966Z",
     "shell.execute_reply.started": "2024-08-18T13:30:27.109943Z"
    },
    "trusted": true
   },
   "outputs": [
    {
     "data": {
      "text/plain": [
       "'Bilal'"
      ]
     },
     "execution_count": 57,
     "metadata": {},
     "output_type": "execute_result"
    }
   ],
   "source": [
    "e3.name"
   ]
  },
  {
   "cell_type": "code",
   "execution_count": 58,
   "metadata": {
    "execution": {
     "iopub.execute_input": "2024-08-18T13:30:46.072128Z",
     "iopub.status.busy": "2024-08-18T13:30:46.071710Z",
     "iopub.status.idle": "2024-08-18T13:30:46.081218Z",
     "shell.execute_reply": "2024-08-18T13:30:46.079193Z",
     "shell.execute_reply.started": "2024-08-18T13:30:46.072096Z"
    },
    "trusted": true
   },
   "outputs": [
    {
     "name": "stdout",
     "output_type": "stream",
     "text": [
      "name is haroon,age is 30:\n"
     ]
    }
   ],
   "source": [
    "\n",
    "e4.display()"
   ]
  },
  {
   "cell_type": "code",
   "execution_count": 59,
   "metadata": {
    "execution": {
     "iopub.execute_input": "2024-08-18T13:32:23.700648Z",
     "iopub.status.busy": "2024-08-18T13:32:23.700151Z",
     "iopub.status.idle": "2024-08-18T13:32:23.711905Z",
     "shell.execute_reply": "2024-08-18T13:32:23.710049Z",
     "shell.execute_reply.started": "2024-08-18T13:32:23.700610Z"
    },
    "trusted": true
   },
   "outputs": [],
   "source": [
    "class Demo:\n",
    "    pass\n",
    "\n",
    "d1=Demo()"
   ]
  },
  {
   "cell_type": "code",
   "execution_count": null,
   "metadata": {},
   "outputs": [],
   "source": []
  },
  {
   "cell_type": "code",
   "execution_count": 4,
   "metadata": {
    "execution": {
     "iopub.execute_input": "2024-08-19T15:07:34.299652Z",
     "iopub.status.busy": "2024-08-19T15:07:34.299130Z",
     "iopub.status.idle": "2024-08-19T15:07:34.306625Z",
     "shell.execute_reply": "2024-08-19T15:07:34.305505Z",
     "shell.execute_reply.started": "2024-08-19T15:07:34.299615Z"
    },
    "trusted": true
   },
   "outputs": [
    {
     "data": {
      "text/plain": [
       "{'name': 'Bilal', 'age': 42}"
      ]
     },
     "execution_count": 4,
     "metadata": {},
     "output_type": "execute_result"
    }
   ],
   "source": [
    "#builtin class functions\n",
    "class Employee:\n",
    "    '''ye employee ki class ha jis men ham us k name or age lyn gy or print karwany ka function banyn gy '''\n",
    "    def __init__(self,name,age):\n",
    "        self.name= name\n",
    "        self.age=age\n",
    "        \n",
    "    def display(self):\n",
    "        print(f'name is {self.name},age is {self.age}:')\n",
    "\n",
    "\n",
    "e3 = Employee('Bilal',42)\n",
    "e4 = Employee('haroon',30)\n",
    "e3.__dict__"
   ]
  },
  {
   "cell_type": "code",
   "execution_count": 61,
   "metadata": {},
   "outputs": [
    {
     "ename": "NameError",
     "evalue": "name 'object_name' is not defined",
     "output_type": "error",
     "traceback": [
      "\u001b[0;31m---------------------------------------------------------------------------\u001b[0m",
      "\u001b[0;31mNameError\u001b[0m                                 Traceback (most recent call last)",
      "Cell \u001b[0;32mIn[61], line 1\u001b[0m\n\u001b[0;32m----> 1\u001b[0m \u001b[38;5;28mgetattr\u001b[39m(object_name,attribute_name)\n",
      "\u001b[0;31mNameError\u001b[0m: name 'object_name' is not defined"
     ]
    }
   ],
   "source": [
    "getattr(object_name,attribute_name)"
   ]
  },
  {
   "cell_type": "code",
   "execution_count": null,
   "metadata": {
    "execution": {
     "iopub.execute_input": "2024-08-19T15:07:36.319746Z",
     "iopub.status.busy": "2024-08-19T15:07:36.319352Z",
     "iopub.status.idle": "2024-08-19T15:07:36.326669Z",
     "shell.execute_reply": "2024-08-19T15:07:36.325656Z",
     "shell.execute_reply.started": "2024-08-19T15:07:36.319714Z"
    },
    "trusted": true
   },
   "outputs": [
    {
     "data": {
      "text/plain": [
       "'Bilal'"
      ]
     },
     "execution_count": 83,
     "metadata": {},
     "output_type": "execute_result"
    }
   ],
   "source": [
    "getattr(e3,'name')"
   ]
  },
  {
   "cell_type": "code",
   "execution_count": null,
   "metadata": {},
   "outputs": [],
   "source": [
    "setattr(object_name,attribute_name,new_values)"
   ]
  },
  {
   "cell_type": "code",
   "execution_count": null,
   "metadata": {
    "execution": {
     "iopub.execute_input": "2024-08-19T15:07:40.817702Z",
     "iopub.status.busy": "2024-08-19T15:07:40.817316Z",
     "iopub.status.idle": "2024-08-19T15:07:40.823141Z",
     "shell.execute_reply": "2024-08-19T15:07:40.821969Z",
     "shell.execute_reply.started": "2024-08-19T15:07:40.817672Z"
    },
    "trusted": true
   },
   "outputs": [],
   "source": [
    "setattr(e3,'name','bilal khan')"
   ]
  },
  {
   "cell_type": "code",
   "execution_count": null,
   "metadata": {
    "execution": {
     "iopub.execute_input": "2024-08-19T15:07:48.859722Z",
     "iopub.status.busy": "2024-08-19T15:07:48.859339Z",
     "iopub.status.idle": "2024-08-19T15:07:48.867080Z",
     "shell.execute_reply": "2024-08-19T15:07:48.865986Z",
     "shell.execute_reply.started": "2024-08-19T15:07:48.859689Z"
    },
    "trusted": true
   },
   "outputs": [
    {
     "data": {
      "text/plain": [
       "{'name': 'bilal khan'}"
      ]
     },
     "execution_count": 87,
     "metadata": {},
     "output_type": "execute_result"
    }
   ],
   "source": [
    "e3.__dict__"
   ]
  },
  {
   "cell_type": "code",
   "execution_count": null,
   "metadata": {
    "execution": {
     "iopub.execute_input": "2024-08-19T15:07:45.908762Z",
     "iopub.status.busy": "2024-08-19T15:07:45.908358Z",
     "iopub.status.idle": "2024-08-19T15:07:45.914310Z",
     "shell.execute_reply": "2024-08-19T15:07:45.913076Z",
     "shell.execute_reply.started": "2024-08-19T15:07:45.908730Z"
    },
    "trusted": true
   },
   "outputs": [],
   "source": [
    "delattr(e3,'age')"
   ]
  },
  {
   "cell_type": "code",
   "execution_count": null,
   "metadata": {},
   "outputs": [],
   "source": [
    "hasattr(object_name, attribute_name)"
   ]
  },
  {
   "cell_type": "code",
   "execution_count": null,
   "metadata": {
    "execution": {
     "iopub.execute_input": "2024-08-19T15:08:18.848813Z",
     "iopub.status.busy": "2024-08-19T15:08:18.848419Z",
     "iopub.status.idle": "2024-08-19T15:08:18.856206Z",
     "shell.execute_reply": "2024-08-19T15:08:18.855007Z",
     "shell.execute_reply.started": "2024-08-19T15:08:18.848772Z"
    },
    "trusted": true
   },
   "outputs": [
    {
     "data": {
      "text/plain": [
       "False"
      ]
     },
     "execution_count": 89,
     "metadata": {},
     "output_type": "execute_result"
    }
   ],
   "source": [
    "hasattr(e3,'age')"
   ]
  },
  {
   "cell_type": "code",
   "execution_count": null,
   "metadata": {},
   "outputs": [],
   "source": [
    "# builtin class attributes\n"
   ]
  },
  {
   "cell_type": "code",
   "execution_count": null,
   "metadata": {
    "execution": {
     "iopub.execute_input": "2024-08-18T13:39:44.185306Z",
     "iopub.status.busy": "2024-08-18T13:39:44.184787Z",
     "iopub.status.idle": "2024-08-18T13:39:44.193546Z",
     "shell.execute_reply": "2024-08-18T13:39:44.192148Z",
     "shell.execute_reply.started": "2024-08-18T13:39:44.185261Z"
    },
    "trusted": true
   },
   "outputs": [
    {
     "data": {
      "text/plain": [
       "{'name': 'Bilal', 'age': 42}"
      ]
     },
     "execution_count": 27,
     "metadata": {},
     "output_type": "execute_result"
    }
   ],
   "source": [
    "e3.__dict__     # dictionary containing class namespace"
   ]
  },
  {
   "cell_type": "code",
   "execution_count": null,
   "metadata": {
    "execution": {
     "iopub.execute_input": "2024-08-18T13:39:39.910245Z",
     "iopub.status.busy": "2024-08-18T13:39:39.909793Z",
     "iopub.status.idle": "2024-08-18T13:39:39.918834Z",
     "shell.execute_reply": "2024-08-18T13:39:39.917342Z",
     "shell.execute_reply.started": "2024-08-18T13:39:39.910205Z"
    },
    "trusted": true
   },
   "outputs": [
    {
     "data": {
      "text/plain": [
       "'ye employee ki class ha jis men ham us k name or age lyn gy or print karwany ka function banyn gy '"
      ]
     },
     "execution_count": 26,
     "metadata": {},
     "output_type": "execute_result"
    }
   ],
   "source": [
    "Employee.__doc__"
   ]
  },
  {
   "cell_type": "code",
   "execution_count": null,
   "metadata": {
    "execution": {
     "iopub.execute_input": "2024-08-18T13:40:09.841524Z",
     "iopub.status.busy": "2024-08-18T13:40:09.841032Z",
     "iopub.status.idle": "2024-08-18T13:40:09.851076Z",
     "shell.execute_reply": "2024-08-18T13:40:09.849341Z",
     "shell.execute_reply.started": "2024-08-18T13:40:09.841462Z"
    },
    "trusted": true
   },
   "outputs": [
    {
     "data": {
      "text/plain": [
       "'Employee'"
      ]
     },
     "execution_count": 29,
     "metadata": {},
     "output_type": "execute_result"
    }
   ],
   "source": [
    "Employee.__name__"
   ]
  },
  {
   "cell_type": "code",
   "execution_count": null,
   "metadata": {
    "execution": {
     "iopub.execute_input": "2024-08-18T13:40:36.281708Z",
     "iopub.status.busy": "2024-08-18T13:40:36.280635Z",
     "iopub.status.idle": "2024-08-18T13:40:36.289700Z",
     "shell.execute_reply": "2024-08-18T13:40:36.288164Z",
     "shell.execute_reply.started": "2024-08-18T13:40:36.281668Z"
    },
    "trusted": true
   },
   "outputs": [
    {
     "data": {
      "text/plain": [
       "'__main__'"
      ]
     },
     "execution_count": 30,
     "metadata": {},
     "output_type": "execute_result"
    }
   ],
   "source": [
    "Employee.__module__"
   ]
  },
  {
   "cell_type": "code",
   "execution_count": null,
   "metadata": {},
   "outputs": [],
   "source": []
  },
  {
   "cell_type": "code",
   "execution_count": null,
   "metadata": {},
   "outputs": [],
   "source": []
  },
  {
   "cell_type": "code",
   "execution_count": null,
   "metadata": {
    "execution": {
     "iopub.execute_input": "2024-08-18T13:31:53.500862Z",
     "iopub.status.busy": "2024-08-18T13:31:53.500364Z",
     "iopub.status.idle": "2024-08-18T13:31:53.509258Z",
     "shell.execute_reply": "2024-08-18T13:31:53.507982Z",
     "shell.execute_reply.started": "2024-08-18T13:31:53.500825Z"
    },
    "trusted": true
   },
   "outputs": [
    {
     "data": {
      "text/plain": [
       "True"
      ]
     },
     "execution_count": 20,
     "metadata": {},
     "output_type": "execute_result"
    }
   ],
   "source": [
    "isinstance(e3,Employee)"
   ]
  },
  {
   "cell_type": "code",
   "execution_count": null,
   "metadata": {
    "execution": {
     "iopub.execute_input": "2024-08-18T13:32:34.700734Z",
     "iopub.status.busy": "2024-08-18T13:32:34.700137Z",
     "iopub.status.idle": "2024-08-18T13:32:34.710355Z",
     "shell.execute_reply": "2024-08-18T13:32:34.708795Z",
     "shell.execute_reply.started": "2024-08-18T13:32:34.700692Z"
    },
    "trusted": true
   },
   "outputs": [
    {
     "data": {
      "text/plain": [
       "False"
      ]
     },
     "execution_count": 23,
     "metadata": {},
     "output_type": "execute_result"
    }
   ],
   "source": [
    "isinstance(d1,Employee)"
   ]
  },
  {
   "cell_type": "code",
   "execution_count": null,
   "metadata": {},
   "outputs": [],
   "source": [
    "if isinstance(object_name,class_name):\n",
    "    pass"
   ]
  },
  {
   "cell_type": "code",
   "execution_count": null,
   "metadata": {},
   "outputs": [],
   "source": []
  },
  {
   "cell_type": "code",
   "execution_count": null,
   "metadata": {},
   "outputs": [],
   "source": [
    "# instance variable\n",
    "class Employee:\n",
    "    def __init__(self,name,age):\n",
    "        self.name= name\n",
    "        self.age=age\n",
    "        \n",
    "    def display(self):\n",
    "        print(f'name is {self.name},age is {self.age}:')\n",
    "\n",
    "\n",
    "e3=Employee('Bilal',42)\n",
    "e4= Employee('haroon',30)"
   ]
  },
  {
   "cell_type": "code",
   "execution_count": 3,
   "metadata": {
    "execution": {
     "iopub.execute_input": "2024-08-18T13:48:27.791767Z",
     "iopub.status.busy": "2024-08-18T13:48:27.790865Z",
     "iopub.status.idle": "2024-08-18T13:48:27.799146Z",
     "shell.execute_reply": "2024-08-18T13:48:27.797402Z",
     "shell.execute_reply.started": "2024-08-18T13:48:27.791731Z"
    },
    "trusted": true
   },
   "outputs": [],
   "source": [
    "class Employee:\n",
    "    # class variables\n",
    "    company_name = 'PAEC'\n",
    "    \n",
    "    def __init__(self,name,age):\n",
    "        self.name= name\n",
    "        self.age=age\n",
    "        \n",
    "    def display(self):\n",
    "        print(f'name is {self.name},age is {self.age}:')\n",
    "\n",
    "\n",
    "e3 = Employee('Bilal',42)\n",
    "e4 = Employee('haroon',30)"
   ]
  },
  {
   "cell_type": "code",
   "execution_count": 4,
   "metadata": {
    "execution": {
     "iopub.execute_input": "2024-08-18T13:48:37.430306Z",
     "iopub.status.busy": "2024-08-18T13:48:37.429868Z",
     "iopub.status.idle": "2024-08-18T13:48:37.438834Z",
     "shell.execute_reply": "2024-08-18T13:48:37.437349Z",
     "shell.execute_reply.started": "2024-08-18T13:48:37.430273Z"
    },
    "trusted": true
   },
   "outputs": [
    {
     "data": {
      "text/plain": [
       "'PAEC'"
      ]
     },
     "execution_count": 4,
     "metadata": {},
     "output_type": "execute_result"
    }
   ],
   "source": [
    "Employee.company_name"
   ]
  },
  {
   "cell_type": "code",
   "execution_count": 7,
   "metadata": {},
   "outputs": [
    {
     "data": {
      "text/plain": [
       "'PAEC'"
      ]
     },
     "execution_count": 7,
     "metadata": {},
     "output_type": "execute_result"
    }
   ],
   "source": [
    "e3 = Employee('Bilal', 42)\n",
    "e3.company_name"
   ]
  },
  {
   "cell_type": "code",
   "execution_count": 8,
   "metadata": {
    "execution": {
     "iopub.execute_input": "2024-08-18T13:49:38.279954Z",
     "iopub.status.busy": "2024-08-18T13:49:38.279507Z",
     "iopub.status.idle": "2024-08-18T13:49:38.288357Z",
     "shell.execute_reply": "2024-08-18T13:49:38.287057Z",
     "shell.execute_reply.started": "2024-08-18T13:49:38.279902Z"
    },
    "trusted": true
   },
   "outputs": [
    {
     "data": {
      "text/plain": [
       "'PAEC'"
      ]
     },
     "execution_count": 8,
     "metadata": {},
     "output_type": "execute_result"
    }
   ],
   "source": [
    "e4.company_name"
   ]
  },
  {
   "cell_type": "code",
   "execution_count": null,
   "metadata": {},
   "outputs": [],
   "source": []
  },
  {
   "cell_type": "code",
   "execution_count": 9,
   "metadata": {
    "execution": {
     "iopub.execute_input": "2024-08-18T13:50:39.756354Z",
     "iopub.status.busy": "2024-08-18T13:50:39.755866Z",
     "iopub.status.idle": "2024-08-18T13:50:39.762369Z",
     "shell.execute_reply": "2024-08-18T13:50:39.760929Z",
     "shell.execute_reply.started": "2024-08-18T13:50:39.756317Z"
    },
    "trusted": true
   },
   "outputs": [],
   "source": [
    "Employee.company_name='TCS'"
   ]
  },
  {
   "cell_type": "code",
   "execution_count": 10,
   "metadata": {
    "execution": {
     "iopub.execute_input": "2024-08-18T13:52:17.997890Z",
     "iopub.status.busy": "2024-08-18T13:52:17.997404Z",
     "iopub.status.idle": "2024-08-18T13:52:18.004291Z",
     "shell.execute_reply": "2024-08-18T13:52:18.002216Z",
     "shell.execute_reply.started": "2024-08-18T13:52:17.997854Z"
    },
    "trusted": true
   },
   "outputs": [],
   "source": [
    "e4.company_name='POOL'"
   ]
  },
  {
   "cell_type": "code",
   "execution_count": 11,
   "metadata": {
    "execution": {
     "iopub.execute_input": "2024-08-18T13:52:20.091250Z",
     "iopub.status.busy": "2024-08-18T13:52:20.090775Z",
     "iopub.status.idle": "2024-08-18T13:52:20.099550Z",
     "shell.execute_reply": "2024-08-18T13:52:20.098118Z",
     "shell.execute_reply.started": "2024-08-18T13:52:20.091213Z"
    },
    "trusted": true
   },
   "outputs": [
    {
     "data": {
      "text/plain": [
       "'POOL'"
      ]
     },
     "execution_count": 11,
     "metadata": {},
     "output_type": "execute_result"
    }
   ],
   "source": [
    "e4.company_name"
   ]
  },
  {
   "cell_type": "code",
   "execution_count": null,
   "metadata": {
    "execution": {
     "iopub.execute_input": "2024-08-18T13:52:21.351327Z",
     "iopub.status.busy": "2024-08-18T13:52:21.350855Z",
     "iopub.status.idle": "2024-08-18T13:52:21.359752Z",
     "shell.execute_reply": "2024-08-18T13:52:21.358562Z",
     "shell.execute_reply.started": "2024-08-18T13:52:21.351290Z"
    },
    "trusted": true
   },
   "outputs": [
    {
     "data": {
      "text/plain": [
       "{'name': 'haroon', 'age': 30, 'company_name': 'POOL'}"
      ]
     },
     "execution_count": 45,
     "metadata": {},
     "output_type": "execute_result"
    }
   ],
   "source": [
    "e4.__dict__"
   ]
  },
  {
   "cell_type": "code",
   "execution_count": null,
   "metadata": {
    "execution": {
     "iopub.execute_input": "2024-08-18T13:52:35.216291Z",
     "iopub.status.busy": "2024-08-18T13:52:35.215805Z",
     "iopub.status.idle": "2024-08-18T13:52:35.225761Z",
     "shell.execute_reply": "2024-08-18T13:52:35.224251Z",
     "shell.execute_reply.started": "2024-08-18T13:52:35.216251Z"
    },
    "trusted": true
   },
   "outputs": [
    {
     "data": {
      "text/plain": [
       "{'name': 'Bilal', 'age': 42}"
      ]
     },
     "execution_count": 46,
     "metadata": {},
     "output_type": "execute_result"
    }
   ],
   "source": [
    "e3.__dict__"
   ]
  },
  {
   "cell_type": "code",
   "execution_count": null,
   "metadata": {},
   "outputs": [],
   "source": []
  },
  {
   "cell_type": "code",
   "execution_count": null,
   "metadata": {},
   "outputs": [],
   "source": [
    "# class method\n",
    "'''A decorator is a design pattern in Python\n",
    "that allows a user to add new functionality \n",
    "to an existing object without modifying its \n",
    "structure'''"
   ]
  },
  {
   "cell_type": "code",
   "execution_count": 12,
   "metadata": {
    "execution": {
     "iopub.execute_input": "2024-08-18T13:58:13.177706Z",
     "iopub.status.busy": "2024-08-18T13:58:13.177222Z",
     "iopub.status.idle": "2024-08-18T13:58:13.187642Z",
     "shell.execute_reply": "2024-08-18T13:58:13.185809Z",
     "shell.execute_reply.started": "2024-08-18T13:58:13.177669Z"
    },
    "trusted": true
   },
   "outputs": [],
   "source": [
    "class Employee:\n",
    "    company_name='PAEC'\n",
    "    \n",
    "    def __init__(self,name,age):\n",
    "        self.name= name\n",
    "        self.age=age\n",
    "        \n",
    "    def display(self):\n",
    "        print(f'name is {self.name},age is {self.age}:')\n",
    "        \n",
    "    @classmethod\n",
    "    def get_company_name(cls):\n",
    "        print(f'company name is :{cls.company_name}')\n",
    "\n",
    "\n",
    "e3 = Employee('Bilal',42)\n",
    "e4 = Employee('haroon',30)"
   ]
  },
  {
   "cell_type": "code",
   "execution_count": null,
   "metadata": {
    "execution": {
     "iopub.execute_input": "2024-08-18T13:58:40.883120Z",
     "iopub.status.busy": "2024-08-18T13:58:40.882622Z",
     "iopub.status.idle": "2024-08-18T13:58:40.890306Z",
     "shell.execute_reply": "2024-08-18T13:58:40.888756Z",
     "shell.execute_reply.started": "2024-08-18T13:58:40.883075Z"
    },
    "trusted": true
   },
   "outputs": [
    {
     "name": "stdout",
     "output_type": "stream",
     "text": [
      "company name is :PAEC\n"
     ]
    }
   ],
   "source": [
    "Employee.get_company_name()"
   ]
  },
  {
   "cell_type": "code",
   "execution_count": null,
   "metadata": {},
   "outputs": [],
   "source": []
  },
  {
   "cell_type": "code",
   "execution_count": null,
   "metadata": {},
   "outputs": [],
   "source": [
    "# instance mehtods\n",
    "# two types of instance methods   /////////////////////////////////////////////////"
   ]
  },
  {
   "cell_type": "code",
   "execution_count": null,
   "metadata": {
    "execution": {
     "iopub.execute_input": "2024-08-19T07:34:52.326010Z",
     "iopub.status.busy": "2024-08-19T07:34:52.325486Z",
     "iopub.status.idle": "2024-08-19T07:34:52.333803Z",
     "shell.execute_reply": "2024-08-19T07:34:52.331905Z",
     "shell.execute_reply.started": "2024-08-19T07:34:52.325972Z"
    },
    "trusted": true
   },
   "outputs": [],
   "source": [
    "class Employee:\n",
    "    def setName(self,name):\n",
    "        self.name=name\n",
    "        \n",
    "    def getName(self):\n",
    "        print(f'the name is ; {self.name}')\n",
    "    "
   ]
  },
  {
   "cell_type": "code",
   "execution_count": null,
   "metadata": {
    "execution": {
     "iopub.execute_input": "2024-08-19T07:34:54.271450Z",
     "iopub.status.busy": "2024-08-19T07:34:54.270951Z",
     "iopub.status.idle": "2024-08-19T07:34:54.277798Z",
     "shell.execute_reply": "2024-08-19T07:34:54.276156Z",
     "shell.execute_reply.started": "2024-08-19T07:34:54.271415Z"
    },
    "trusted": true
   },
   "outputs": [],
   "source": [
    "e1=Employee()\n"
   ]
  },
  {
   "cell_type": "code",
   "execution_count": null,
   "metadata": {
    "execution": {
     "iopub.execute_input": "2024-08-19T07:34:55.806678Z",
     "iopub.status.busy": "2024-08-19T07:34:55.806217Z",
     "iopub.status.idle": "2024-08-19T07:34:55.813143Z",
     "shell.execute_reply": "2024-08-19T07:34:55.811563Z",
     "shell.execute_reply.started": "2024-08-19T07:34:55.806641Z"
    },
    "trusted": true
   },
   "outputs": [],
   "source": [
    "e1.setName('kiran')\n"
   ]
  },
  {
   "cell_type": "code",
   "execution_count": null,
   "metadata": {
    "execution": {
     "iopub.execute_input": "2024-08-19T07:35:33.386874Z",
     "iopub.status.busy": "2024-08-19T07:35:33.385793Z",
     "iopub.status.idle": "2024-08-19T07:35:33.394057Z",
     "shell.execute_reply": "2024-08-19T07:35:33.392466Z",
     "shell.execute_reply.started": "2024-08-19T07:35:33.386809Z"
    },
    "trusted": true
   },
   "outputs": [
    {
     "name": "stdout",
     "output_type": "stream",
     "text": [
      "the name is ; kiran\n"
     ]
    }
   ],
   "source": [
    "e1.getName()"
   ]
  },
  {
   "cell_type": "code",
   "execution_count": null,
   "metadata": {},
   "outputs": [],
   "source": []
  },
  {
   "cell_type": "code",
   "execution_count": null,
   "metadata": {
    "execution": {
     "iopub.execute_input": "2024-08-19T07:37:46.942089Z",
     "iopub.status.busy": "2024-08-19T07:37:46.941208Z",
     "iopub.status.idle": "2024-08-19T07:37:46.947349Z",
     "shell.execute_reply": "2024-08-19T07:37:46.945974Z",
     "shell.execute_reply.started": "2024-08-19T07:37:46.942050Z"
    },
    "trusted": true
   },
   "outputs": [],
   "source": [
    "#static method\n"
   ]
  },
  {
   "cell_type": "code",
   "execution_count": 13,
   "metadata": {
    "execution": {
     "iopub.execute_input": "2024-08-19T07:42:04.481434Z",
     "iopub.status.busy": "2024-08-19T07:42:04.480973Z",
     "iopub.status.idle": "2024-08-19T07:42:04.488213Z",
     "shell.execute_reply": "2024-08-19T07:42:04.486734Z",
     "shell.execute_reply.started": "2024-08-19T07:42:04.481402Z"
    },
    "trusted": true
   },
   "outputs": [],
   "source": [
    "class Bank:\n",
    "    bank_name='HBL'\n",
    "    rate_of_interest=12.25\n",
    "    \n",
    "    @staticmethod\n",
    "    def simple_interest(price,n):\n",
    "        si=(price*n*Bank.rate_of_interest)/100\n",
    "        # n\n",
    "        print(si)"
   ]
  },
  {
   "cell_type": "code",
   "execution_count": 14,
   "metadata": {
    "execution": {
     "iopub.execute_input": "2024-08-19T07:42:07.096096Z",
     "iopub.status.busy": "2024-08-19T07:42:07.095632Z",
     "iopub.status.idle": "2024-08-19T07:42:07.102873Z",
     "shell.execute_reply": "2024-08-19T07:42:07.101277Z",
     "shell.execute_reply.started": "2024-08-19T07:42:07.096060Z"
    },
    "trusted": true
   },
   "outputs": [
    {
     "name": "stdout",
     "output_type": "stream",
     "text": [
      "12250.0\n"
     ]
    }
   ],
   "source": [
    "Bank.simple_interest(20000,5)"
   ]
  },
  {
   "cell_type": "code",
   "execution_count": null,
   "metadata": {},
   "outputs": [],
   "source": []
  },
  {
   "cell_type": "code",
   "execution_count": null,
   "metadata": {},
   "outputs": [],
   "source": [
    "#       inheritance"
   ]
  },
  {
   "cell_type": "code",
   "execution_count": null,
   "metadata": {},
   "outputs": [],
   "source": []
  },
  {
   "cell_type": "code",
   "execution_count": 15,
   "metadata": {
    "execution": {
     "iopub.execute_input": "2024-08-19T07:46:15.531291Z",
     "iopub.status.busy": "2024-08-19T07:46:15.530912Z",
     "iopub.status.idle": "2024-08-19T07:46:15.537587Z",
     "shell.execute_reply": "2024-08-19T07:46:15.536217Z",
     "shell.execute_reply.started": "2024-08-19T07:46:15.531263Z"
    },
    "trusted": true
   },
   "outputs": [],
   "source": [
    "class Employee:\n",
    "    bonus = 20000\n",
    "    def display(self):\n",
    "        print('this is employee class method')\n",
    "        \n",
    "    "
   ]
  },
  {
   "cell_type": "code",
   "execution_count": 16,
   "metadata": {
    "execution": {
     "iopub.execute_input": "2024-08-19T07:47:51.771862Z",
     "iopub.status.busy": "2024-08-19T07:47:51.771409Z",
     "iopub.status.idle": "2024-08-19T07:47:51.779028Z",
     "shell.execute_reply": "2024-08-19T07:47:51.777606Z",
     "shell.execute_reply.started": "2024-08-19T07:47:51.771807Z"
    },
    "trusted": true
   },
   "outputs": [],
   "source": [
    "class Manager(Employee):\n",
    "    bonus1=50000\n",
    "    def show(self):\n",
    "        print('this is manager class method')"
   ]
  },
  {
   "cell_type": "code",
   "execution_count": 17,
   "metadata": {
    "execution": {
     "iopub.execute_input": "2024-08-19T07:47:54.141995Z",
     "iopub.status.busy": "2024-08-19T07:47:54.141562Z",
     "iopub.status.idle": "2024-08-19T07:47:54.147238Z",
     "shell.execute_reply": "2024-08-19T07:47:54.146099Z",
     "shell.execute_reply.started": "2024-08-19T07:47:54.141961Z"
    },
    "trusted": true
   },
   "outputs": [],
   "source": [
    "e1=Employee()\n",
    "m1=Manager()"
   ]
  },
  {
   "cell_type": "code",
   "execution_count": 18,
   "metadata": {
    "execution": {
     "iopub.execute_input": "2024-08-19T07:46:23.238789Z",
     "iopub.status.busy": "2024-08-19T07:46:23.237556Z",
     "iopub.status.idle": "2024-08-19T07:46:23.245368Z",
     "shell.execute_reply": "2024-08-19T07:46:23.243915Z",
     "shell.execute_reply.started": "2024-08-19T07:46:23.238746Z"
    },
    "trusted": true
   },
   "outputs": [
    {
     "name": "stdout",
     "output_type": "stream",
     "text": [
      "this is employee class method\n"
     ]
    }
   ],
   "source": [
    "e1.display()"
   ]
  },
  {
   "cell_type": "code",
   "execution_count": 19,
   "metadata": {
    "execution": {
     "iopub.execute_input": "2024-08-19T07:47:55.902203Z",
     "iopub.status.busy": "2024-08-19T07:47:55.901674Z",
     "iopub.status.idle": "2024-08-19T07:47:55.909475Z",
     "shell.execute_reply": "2024-08-19T07:47:55.907976Z",
     "shell.execute_reply.started": "2024-08-19T07:47:55.902162Z"
    },
    "trusted": true
   },
   "outputs": [
    {
     "name": "stdout",
     "output_type": "stream",
     "text": [
      "this is manager class method\n"
     ]
    }
   ],
   "source": [
    "m1.show()"
   ]
  },
  {
   "cell_type": "code",
   "execution_count": 24,
   "metadata": {
    "execution": {
     "iopub.execute_input": "2024-08-19T07:47:58.378407Z",
     "iopub.status.busy": "2024-08-19T07:47:58.376800Z",
     "iopub.status.idle": "2024-08-19T07:47:58.387668Z",
     "shell.execute_reply": "2024-08-19T07:47:58.386255Z",
     "shell.execute_reply.started": "2024-08-19T07:47:58.378356Z"
    },
    "trusted": true
   },
   "outputs": [
    {
     "name": "stdout",
     "output_type": "stream",
     "text": [
      "this is employee class method\n"
     ]
    }
   ],
   "source": [
    "m1.display()"
   ]
  },
  {
   "cell_type": "code",
   "execution_count": null,
   "metadata": {
    "execution": {
     "iopub.execute_input": "2024-08-19T07:48:05.706724Z",
     "iopub.status.busy": "2024-08-19T07:48:05.706315Z",
     "iopub.status.idle": "2024-08-19T07:48:05.736814Z",
     "shell.execute_reply": "2024-08-19T07:48:05.735131Z",
     "shell.execute_reply.started": "2024-08-19T07:48:05.706693Z"
    },
    "trusted": true
   },
   "outputs": [
    {
     "ename": "AttributeError",
     "evalue": "'Employee' object has no attribute 'bonus1'",
     "output_type": "error",
     "traceback": [
      "\u001b[0;31m---------------------------------------------------------------------------\u001b[0m",
      "\u001b[0;31mAttributeError\u001b[0m                            Traceback (most recent call last)",
      "Cell \u001b[0;32mIn[35], line 1\u001b[0m\n\u001b[0;32m----> 1\u001b[0m \u001b[43me1\u001b[49m\u001b[38;5;241;43m.\u001b[39;49m\u001b[43mbonus1\u001b[49m\n",
      "\u001b[0;31mAttributeError\u001b[0m: 'Employee' object has no attribute 'bonus1'"
     ]
    }
   ],
   "source": [
    "#e1.bonus1"
   ]
  },
  {
   "cell_type": "code",
   "execution_count": null,
   "metadata": {},
   "outputs": [],
   "source": []
  },
  {
   "cell_type": "code",
   "execution_count": null,
   "metadata": {},
   "outputs": [],
   "source": [
    "# bank management system (without inheritance)"
   ]
  },
  {
   "cell_type": "code",
   "execution_count": null,
   "metadata": {},
   "outputs": [],
   "source": [
    "class Customers:\n",
    "    # Setpersonal Details()\n",
    "    #Get personalDetails()\n",
    "    #SetEducation details()\n",
    "    # get education details()\n",
    "    # set bank account()\n",
    "    "
   ]
  },
  {
   "cell_type": "code",
   "execution_count": null,
   "metadata": {},
   "outputs": [],
   "source": [
    "class Employee:\n",
    "     # Setpersonal Details()\n",
    "    #Get personalDetails()\n",
    "    #SetEducation details()\n",
    "    # get education details()\n",
    "    # set bank account()\n",
    "    #set salary()\n",
    "    # set bonus()"
   ]
  },
  {
   "cell_type": "code",
   "execution_count": null,
   "metadata": {},
   "outputs": [],
   "source": []
  },
  {
   "cell_type": "code",
   "execution_count": null,
   "metadata": {},
   "outputs": [],
   "source": [
    "# bank mamagement system (with inheritance )"
   ]
  },
  {
   "cell_type": "code",
   "execution_count": null,
   "metadata": {},
   "outputs": [],
   "source": []
  },
  {
   "cell_type": "code",
   "execution_count": null,
   "metadata": {},
   "outputs": [],
   "source": [
    "class Customers:\n",
    "    # Setpersonal Details()\n",
    "    #Get personalDetails()\n",
    "    #SetEducation details()\n",
    "    # get education details()\n",
    "    # set bank account()\n",
    "    "
   ]
  },
  {
   "cell_type": "code",
   "execution_count": null,
   "metadata": {},
   "outputs": [],
   "source": [
    "class Employee(Customers):\n",
    "     \n",
    "    # set bank account()\n",
    "    #set salary()\n",
    "    # set bonus()"
   ]
  },
  {
   "cell_type": "code",
   "execution_count": null,
   "metadata": {},
   "outputs": [],
   "source": []
  },
  {
   "cell_type": "code",
   "execution_count": null,
   "metadata": {},
   "outputs": [],
   "source": [
    "# Constructor in inheritance\n"
   ]
  },
  {
   "cell_type": "code",
   "execution_count": null,
   "metadata": {
    "execution": {
     "iopub.execute_input": "2024-08-19T15:21:20.665462Z",
     "iopub.status.busy": "2024-08-19T15:21:20.664922Z",
     "iopub.status.idle": "2024-08-19T15:21:20.671532Z",
     "shell.execute_reply": "2024-08-19T15:21:20.670101Z",
     "shell.execute_reply.started": "2024-08-19T15:21:20.665416Z"
    },
    "trusted": true
   },
   "outputs": [],
   "source": [
    "class Father:\n",
    "    def __init__(self):\n",
    "        print('father constructor called')\n",
    "        self.vehicle='bike'\n",
    "        \n",
    "        "
   ]
  },
  {
   "cell_type": "code",
   "execution_count": null,
   "metadata": {
    "execution": {
     "iopub.execute_input": "2024-08-19T15:21:30.546304Z",
     "iopub.status.busy": "2024-08-19T15:21:30.545624Z",
     "iopub.status.idle": "2024-08-19T15:21:30.553652Z",
     "shell.execute_reply": "2024-08-19T15:21:30.552305Z",
     "shell.execute_reply.started": "2024-08-19T15:21:30.546271Z"
    },
    "trusted": true
   },
   "outputs": [],
   "source": [
    "class Son(Father):\n",
    "    def __init__(self):\n",
    "        print('son consturctor called')\n",
    "        self.vehicle='BMW'\n",
    "    pass\n"
   ]
  },
  {
   "cell_type": "code",
   "execution_count": null,
   "metadata": {
    "execution": {
     "iopub.execute_input": "2024-08-19T15:21:32.609144Z",
     "iopub.status.busy": "2024-08-19T15:21:32.608724Z",
     "iopub.status.idle": "2024-08-19T15:21:32.617452Z",
     "shell.execute_reply": "2024-08-19T15:21:32.616192Z",
     "shell.execute_reply.started": "2024-08-19T15:21:32.609110Z"
    },
    "trusted": true
   },
   "outputs": [
    {
     "ename": "NameError",
     "evalue": "name 'Father' is not defined",
     "output_type": "error",
     "traceback": [
      "\u001b[0;31m---------------------------------------------------------------------------\u001b[0m",
      "\u001b[0;31mNameError\u001b[0m                                 Traceback (most recent call last)",
      "Cell \u001b[0;32mIn[1], line 1\u001b[0m\n\u001b[0;32m----> 1\u001b[0m a \u001b[38;5;241m=\u001b[39m Father()\n\u001b[1;32m      2\u001b[0m a\u001b[38;5;241m.\u001b[39m\u001b[38;5;18m__dict__\u001b[39m\n\u001b[1;32m      3\u001b[0m s \u001b[38;5;241m=\u001b[39m Son()\n",
      "\u001b[0;31mNameError\u001b[0m: name 'Father' is not defined"
     ]
    }
   ],
   "source": [
    "a = Father()\n",
    "a.__dict__\n",
    "s = Son()\n",
    "s.__dict__"
   ]
  },
  {
   "cell_type": "code",
   "execution_count": null,
   "metadata": {},
   "outputs": [],
   "source": []
  },
  {
   "cell_type": "code",
   "execution_count": null,
   "metadata": {},
   "outputs": [],
   "source": [
    "# super fucntion\n"
   ]
  },
  {
   "cell_type": "code",
   "execution_count": null,
   "metadata": {
    "execution": {
     "iopub.execute_input": "2024-08-19T15:24:45.555151Z",
     "iopub.status.busy": "2024-08-19T15:24:45.554701Z",
     "iopub.status.idle": "2024-08-19T15:24:45.561119Z",
     "shell.execute_reply": "2024-08-19T15:24:45.559891Z",
     "shell.execute_reply.started": "2024-08-19T15:24:45.555117Z"
    },
    "trusted": true
   },
   "outputs": [],
   "source": [
    "class Computer:\n",
    "    def __init__(self):\n",
    "        self.ram='8gb'\n",
    "        self.storage='512gb'\n",
    "        print('computer class constructor called')"
   ]
  },
  {
   "cell_type": "code",
   "execution_count": null,
   "metadata": {
    "execution": {
     "iopub.execute_input": "2024-08-19T15:24:49.321332Z",
     "iopub.status.busy": "2024-08-19T15:24:49.320416Z",
     "iopub.status.idle": "2024-08-19T15:24:49.326628Z",
     "shell.execute_reply": "2024-08-19T15:24:49.325486Z",
     "shell.execute_reply.started": "2024-08-19T15:24:49.321296Z"
    },
    "trusted": true
   },
   "outputs": [],
   "source": [
    "class Mobile(Computer):\n",
    "    def __init__(self):\n",
    "        super().__init__()\n",
    "        self.model='vivo'\n",
    "        print('Mobile class constructor called')"
   ]
  },
  {
   "cell_type": "code",
   "execution_count": null,
   "metadata": {
    "execution": {
     "iopub.execute_input": "2024-08-19T15:24:49.329388Z",
     "iopub.status.busy": "2024-08-19T15:24:49.328959Z",
     "iopub.status.idle": "2024-08-19T15:24:49.342761Z",
     "shell.execute_reply": "2024-08-19T15:24:49.341637Z",
     "shell.execute_reply.started": "2024-08-19T15:24:49.329359Z"
    },
    "trusted": true
   },
   "outputs": [
    {
     "name": "stdout",
     "output_type": "stream",
     "text": [
      "computer class constructor called\n",
      "Mobile class constructor called\n"
     ]
    },
    {
     "data": {
      "text/plain": [
       "{'ram': '8gb', 'storage': '512gb', 'model': 'vivo'}"
      ]
     },
     "execution_count": 103,
     "metadata": {},
     "output_type": "execute_result"
    }
   ],
   "source": [
    "m=Mobile()\n",
    "m.__dict__"
   ]
  },
  {
   "cell_type": "code",
   "execution_count": null,
   "metadata": {},
   "outputs": [],
   "source": []
  },
  {
   "cell_type": "code",
   "execution_count": null,
   "metadata": {},
   "outputs": [],
   "source": [
    "# mulity level inhertance"
   ]
  },
  {
   "cell_type": "code",
   "execution_count": null,
   "metadata": {
    "execution": {
     "iopub.execute_input": "2024-08-19T15:26:30.740450Z",
     "iopub.status.busy": "2024-08-19T15:26:30.739470Z",
     "iopub.status.idle": "2024-08-19T15:26:30.745656Z",
     "shell.execute_reply": "2024-08-19T15:26:30.744380Z",
     "shell.execute_reply.started": "2024-08-19T15:26:30.740414Z"
    },
    "trusted": true
   },
   "outputs": [],
   "source": [
    "class Human_Being(object):\n",
    "    def __init__(self):\n",
    "        print('human being constructor called')\n",
    "        self.name='kiran'\n",
    "        "
   ]
  },
  {
   "cell_type": "code",
   "execution_count": null,
   "metadata": {
    "execution": {
     "iopub.execute_input": "2024-08-19T15:26:37.475241Z",
     "iopub.status.busy": "2024-08-19T15:26:37.474824Z",
     "iopub.status.idle": "2024-08-19T15:26:37.481066Z",
     "shell.execute_reply": "2024-08-19T15:26:37.479902Z",
     "shell.execute_reply.started": "2024-08-19T15:26:37.475209Z"
    },
    "trusted": true
   },
   "outputs": [],
   "source": [
    "class Employee(Human_Being):\n",
    "    def __init__(self):\n",
    "        super().__init__()\n",
    "        print('Employee constructor clalled')\n",
    "        self.salary=78999\n",
    "        "
   ]
  },
  {
   "cell_type": "code",
   "execution_count": null,
   "metadata": {
    "execution": {
     "iopub.execute_input": "2024-08-19T14:51:38.567892Z",
     "iopub.status.busy": "2024-08-19T14:51:38.567481Z",
     "iopub.status.idle": "2024-08-19T14:51:38.573732Z",
     "shell.execute_reply": "2024-08-19T14:51:38.572710Z",
     "shell.execute_reply.started": "2024-08-19T14:51:38.567856Z"
    },
    "trusted": true
   },
   "outputs": [],
   "source": [
    "class Managers(Employee):\n",
    "    def __init__(self):\n",
    "        super().__init__()\n",
    "        print('Manager constructor called')\n",
    "        self.bonus=6000"
   ]
  },
  {
   "cell_type": "code",
   "execution_count": null,
   "metadata": {
    "execution": {
     "iopub.execute_input": "2024-08-19T14:51:40.331506Z",
     "iopub.status.busy": "2024-08-19T14:51:40.331106Z",
     "iopub.status.idle": "2024-08-19T14:51:40.339931Z",
     "shell.execute_reply": "2024-08-19T14:51:40.338876Z",
     "shell.execute_reply.started": "2024-08-19T14:51:40.331474Z"
    },
    "trusted": true
   },
   "outputs": [
    {
     "name": "stdout",
     "output_type": "stream",
     "text": [
      "human beingconstructor called\n",
      "Employee constructor clalled\n",
      "Manager constructor called\n"
     ]
    },
    {
     "data": {
      "text/plain": [
       "{'name': 'kiran', 'salary': 78999, 'bonus': 6000}"
      ]
     },
     "execution_count": 72,
     "metadata": {},
     "output_type": "execute_result"
    }
   ],
   "source": [
    "m1=Managers()\n",
    "m1.__dict__"
   ]
  },
  {
   "cell_type": "code",
   "execution_count": null,
   "metadata": {},
   "outputs": [],
   "source": []
  },
  {
   "cell_type": "code",
   "execution_count": null,
   "metadata": {},
   "outputs": [],
   "source": [
    "# Hierarchical inhgeritance "
   ]
  },
  {
   "cell_type": "code",
   "execution_count": null,
   "metadata": {
    "execution": {
     "iopub.execute_input": "2024-08-19T15:31:47.700449Z",
     "iopub.status.busy": "2024-08-19T15:31:47.700033Z",
     "iopub.status.idle": "2024-08-19T15:31:47.707749Z",
     "shell.execute_reply": "2024-08-19T15:31:47.706507Z",
     "shell.execute_reply.started": "2024-08-19T15:31:47.700420Z"
    },
    "trusted": true
   },
   "outputs": [],
   "source": [
    "class Person:\n",
    "    def __init__(self):\n",
    "        print('Person constructor called')\n",
    "        self.name = 'kiran'\n",
    "\n",
    "class Student(Person):\n",
    "    def __init__(self):\n",
    "        super().__init__()  \n",
    "        print('Student constructor called')\n",
    "        self.age = 56\n",
    "\n",
    "class Employee(Person):\n",
    "    def __init__(self):\n",
    "        super().__init__() \n",
    "        print('Employee constructor called')\n",
    "        self.salary = 56000"
   ]
  },
  {
   "cell_type": "code",
   "execution_count": null,
   "metadata": {
    "execution": {
     "iopub.execute_input": "2024-08-19T15:32:46.690708Z",
     "iopub.status.busy": "2024-08-19T15:32:46.690056Z",
     "iopub.status.idle": "2024-08-19T15:32:46.697973Z",
     "shell.execute_reply": "2024-08-19T15:32:46.696965Z",
     "shell.execute_reply.started": "2024-08-19T15:32:46.690677Z"
    },
    "trusted": true
   },
   "outputs": [
    {
     "name": "stdout",
     "output_type": "stream",
     "text": [
      "Person constructor called\n",
      "Student constructor called\n"
     ]
    },
    {
     "data": {
      "text/plain": [
       "{'name': 'kiran', 'age': 56}"
      ]
     },
     "execution_count": 108,
     "metadata": {},
     "output_type": "execute_result"
    }
   ],
   "source": [
    "s3 = Student()\n",
    "s3.__dict__"
   ]
  },
  {
   "cell_type": "code",
   "execution_count": null,
   "metadata": {},
   "outputs": [],
   "source": []
  },
  {
   "cell_type": "code",
   "execution_count": null,
   "metadata": {},
   "outputs": [],
   "source": [
    "# multiple inheritance "
   ]
  },
  {
   "cell_type": "code",
   "execution_count": null,
   "metadata": {
    "execution": {
     "iopub.execute_input": "2024-08-19T15:40:14.626850Z",
     "iopub.status.busy": "2024-08-19T15:40:14.625767Z",
     "iopub.status.idle": "2024-08-19T15:40:14.633750Z",
     "shell.execute_reply": "2024-08-19T15:40:14.632643Z",
     "shell.execute_reply.started": "2024-08-19T15:40:14.626761Z"
    },
    "trusted": true
   },
   "outputs": [],
   "source": [
    "class Person:\n",
    "    pass\n",
    "#     def __init__(self):\n",
    "#         print('Person constructor called')\n",
    "#         self.name = 'kiran'\n",
    "\n",
    "class Worker:\n",
    "    def __init__(self):\n",
    "        print('Worker constructor called')\n",
    "        self.job = 'Engineer'\n",
    "\n",
    "class Employee(Person, Worker):\n",
    "    def __init__(self):\n",
    "        super().__init__() \n",
    "        # Call constructors of both parent classes\n",
    "#         Person.__init__(self)\n",
    "#         Worker.__init__(self)\n",
    "        print('Employee constructor called')\n",
    "        self.salary = 56000"
   ]
  },
  {
   "cell_type": "code",
   "execution_count": null,
   "metadata": {
    "execution": {
     "iopub.execute_input": "2024-08-19T15:40:30.766278Z",
     "iopub.status.busy": "2024-08-19T15:40:30.765863Z",
     "iopub.status.idle": "2024-08-19T15:40:30.774178Z",
     "shell.execute_reply": "2024-08-19T15:40:30.773070Z",
     "shell.execute_reply.started": "2024-08-19T15:40:30.766246Z"
    },
    "trusted": true
   },
   "outputs": [
    {
     "name": "stdout",
     "output_type": "stream",
     "text": [
      "Worker constructor called\n",
      "Employee constructor called\n"
     ]
    },
    {
     "data": {
      "text/plain": [
       "{'job': 'Engineer', 'salary': 56000}"
      ]
     },
     "execution_count": 119,
     "metadata": {},
     "output_type": "execute_result"
    }
   ],
   "source": [
    "e1 = Employee()\n",
    "e1.__dict__"
   ]
  },
  {
   "cell_type": "code",
   "execution_count": null,
   "metadata": {},
   "outputs": [],
   "source": []
  },
  {
   "cell_type": "code",
   "execution_count": null,
   "metadata": {
    "execution": {
     "iopub.execute_input": "2024-08-19T14:56:45.029037Z",
     "iopub.status.busy": "2024-08-19T14:56:45.028292Z",
     "iopub.status.idle": "2024-08-19T14:56:45.039347Z",
     "shell.execute_reply": "2024-08-19T14:56:45.037789Z",
     "shell.execute_reply.started": "2024-08-19T14:56:45.029004Z"
    },
    "trusted": true
   },
   "outputs": [],
   "source": [
    "class Person:  # Base class (Single Inheritance)\n",
    "    def __init__(self):\n",
    "        print('Person constructor called')\n",
    "        self.name = 'Kiran'\n",
    "\n",
    "class Worker:  # Separate Base class (Multiple Inheritance)\n",
    "    def __init__(self):\n",
    "        print('Worker constructor called')\n",
    "        self.job = 'Engineer'\n",
    "\n",
    "class Employee(Person):  # Derived from Person (Hierarchical Inheritance)\n",
    "    def __init__(self):\n",
    "        super().__init__()\n",
    "        print('Employee constructor called')\n",
    "        self.salary = 56000\n",
    "\n",
    "class Manager(Employee, Worker):  # Derived from Employee and Worker (Multiple & Multilevel Inheritance)\n",
    "    def __init__(self):\n",
    "        Employee.__init__(self)\n",
    "        Worker.__init__(self)\n",
    "        print('Manager constructor called')\n",
    "        self.department = 'IT'"
   ]
  },
  {
   "cell_type": "code",
   "execution_count": null,
   "metadata": {
    "execution": {
     "iopub.execute_input": "2024-08-19T14:57:21.648978Z",
     "iopub.status.busy": "2024-08-19T14:57:21.648523Z",
     "iopub.status.idle": "2024-08-19T14:57:21.657251Z",
     "shell.execute_reply": "2024-08-19T14:57:21.656000Z",
     "shell.execute_reply.started": "2024-08-19T14:57:21.648946Z"
    },
    "trusted": true
   },
   "outputs": [
    {
     "name": "stdout",
     "output_type": "stream",
     "text": [
      "Person constructor called\n",
      "Employee constructor called\n",
      "Worker constructor called\n",
      "Manager constructor called\n"
     ]
    },
    {
     "data": {
      "text/plain": [
       "{'name': 'Kiran', 'salary': 56000, 'job': 'Engineer', 'department': 'IT'}"
      ]
     },
     "execution_count": 81,
     "metadata": {},
     "output_type": "execute_result"
    }
   ],
   "source": [
    "m1 = Manager()\n",
    "m1.__dict__"
   ]
  }
 ],
 "metadata": {
  "kaggle": {
   "accelerator": "none",
   "dataSources": [],
   "dockerImageVersionId": 30746,
   "isGpuEnabled": false,
   "isInternetEnabled": true,
   "language": "python",
   "sourceType": "notebook"
  },
  "kernelspec": {
   "display_name": "pytorch",
   "language": "python",
   "name": "python3"
  },
  "language_info": {
   "codemirror_mode": {
    "name": "ipython",
    "version": 3
   },
   "file_extension": ".py",
   "mimetype": "text/x-python",
   "name": "python",
   "nbconvert_exporter": "python",
   "pygments_lexer": "ipython3",
   "version": "3.10.13"
  }
 },
 "nbformat": 4,
 "nbformat_minor": 4
}
