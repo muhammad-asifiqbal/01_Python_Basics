{
  "cells": [
    {
      "cell_type": "markdown",
      "metadata": {
        "id": "rI_cCbCIr2Mp"
      },
      "source": [
        "#Object Oriented Programing(OOPs)\n",
        "\n",
        "-Inheritance\n",
        "-Abstraction\n",
        "-Polymorphism\n",
        "-Encapsulation"
      ]
    },
    {
      "cell_type": "code",
      "execution_count": 65,
      "metadata": {
        "id": "J9R2445eKAlZ"
      },
      "outputs": [],
      "source": [
        "class Employee:\n",
        "    def __init__(self,name,age):\n",
        "        self.name= name\n",
        "        self.age=age\n",
        "\n",
        "\n",
        "\n",
        "\n",
        "\n",
        "e3 = Employee('Bilal',42)\n",
        "e4 = Employee('haroon',30)"
      ]
    },
    {
      "cell_type": "code",
      "execution_count": 1,
      "metadata": {
        "id": "01-m-H2OKB5p"
      },
      "outputs": [
        {
          "name": "stdout",
          "output_type": "stream",
          "text": [
            "name is Bilal,age is 42:\n"
          ]
        }
      ],
      "source": [
        "class Employee:\n",
        "    def __init__(self,name,age):\n",
        "        self.name= name\n",
        "        self.age=age\n",
        "\n",
        "    def display(self):\n",
        "        print(f'name is {self.name},age is {self.age}:')\n",
        "\n",
        "\n",
        "e3=Employee('Bilal',42)\n",
        "e3.display()\n",
        "\n",
        "#e4= Employee('haroon',30)"
      ]
    },
    {
      "cell_type": "code",
      "execution_count": 2,
      "metadata": {
        "colab": {
          "base_uri": "https://localhost:8080/",
          "height": 35
        },
        "id": "Uylpgn0GKFwl",
        "outputId": "3fadc302-8305-4c11-b58c-6c184a31e9db"
      },
      "outputs": [
        {
          "data": {
            "text/plain": [
              "'Bilal'"
            ]
          },
          "execution_count": 2,
          "metadata": {},
          "output_type": "execute_result"
        }
      ],
      "source": [
        "e3.name"
      ]
    },
    {
      "cell_type": "code",
      "execution_count": 68,
      "metadata": {
        "colab": {
          "base_uri": "https://localhost:8080/"
        },
        "id": "dHPBhaVPKF0n",
        "outputId": "4bc9e362-d042-4d8b-e93c-b537e55d4e4c"
      },
      "outputs": [
        {
          "name": "stdout",
          "output_type": "stream",
          "text": [
            "name is haroon,age is 30:\n"
          ]
        }
      ],
      "source": [
        "e4.display()"
      ]
    },
    {
      "cell_type": "code",
      "execution_count": null,
      "metadata": {
        "id": "VDU7v9XNKQuU"
      },
      "outputs": [
        {
          "data": {
            "text/plain": [
              "{'name': 'haroon', 'age': 30}"
            ]
          },
          "execution_count": 6,
          "metadata": {},
          "output_type": "execute_result"
        }
      ],
      "source": [
        "#builtin class functions\n",
        "class Employee:\n",
        "    '''Its Employee class where one constructor and one instance method is used'''\n",
        "    def __init__(self,name,age):\n",
        "        self.name= name\n",
        "        self.age=age\n",
        "\n",
        "    def display(self):\n",
        "        print(f'name is {self.name},age is {self.age}:')\n",
        "\n",
        "\n",
        "e4 = Employee('haroon',30)\n",
        "e4.__dict__"
      ]
    },
    {
      "cell_type": "code",
      "execution_count": 7,
      "metadata": {
        "colab": {
          "base_uri": "https://localhost:8080/",
          "height": 35
        },
        "id": "-jKk8WeLKRzL",
        "outputId": "5c6c1d44-d008-4da9-f394-a6b40cde6352"
      },
      "outputs": [
        {
          "data": {
            "text/plain": [
              "'haroon'"
            ]
          },
          "execution_count": 7,
          "metadata": {},
          "output_type": "execute_result"
        }
      ],
      "source": [
        "getattr(e4,'name')"
      ]
    },
    {
      "cell_type": "code",
      "execution_count": 71,
      "metadata": {
        "colab": {
          "base_uri": "https://localhost:8080/"
        },
        "id": "KyNk6pBzKVjt",
        "outputId": "9f4efd4f-278c-4667-cf1d-b9e01889b934"
      },
      "outputs": [
        {
          "data": {
            "text/plain": [
              "{'name': 'Bilal', 'age': 42}"
            ]
          },
          "execution_count": 71,
          "metadata": {},
          "output_type": "execute_result"
        }
      ],
      "source": [
        "e3.__dict__"
      ]
    },
    {
      "cell_type": "code",
      "execution_count": 72,
      "metadata": {
        "id": "BReF8uxQKZ0u"
      },
      "outputs": [],
      "source": [
        "# delete 'age':42\n",
        "delattr(e3,'age')"
      ]
    },
    {
      "cell_type": "code",
      "execution_count": 73,
      "metadata": {
        "colab": {
          "base_uri": "https://localhost:8080/"
        },
        "id": "z-p3mjBOKF8B",
        "outputId": "49f6f242-4f19-4127-e9e8-efb06e4eb7c9"
      },
      "outputs": [
        {
          "data": {
            "text/plain": [
              "{'name': 'Bilal'}"
            ]
          },
          "execution_count": 73,
          "metadata": {},
          "output_type": "execute_result"
        }
      ],
      "source": [
        "e3.__dict__     # dictionary containing class namespace"
      ]
    },
    {
      "cell_type": "code",
      "execution_count": 74,
      "metadata": {
        "colab": {
          "base_uri": "https://localhost:8080/",
          "height": 35
        },
        "id": "dh6ad7BjKixK",
        "outputId": "589e30ed-8241-4130-944c-63958f4440a5"
      },
      "outputs": [
        {
          "data": {
            "application/vnd.google.colaboratory.intrinsic+json": {
              "type": "string"
            },
            "text/plain": [
              "'Its Employee clas where one constructor and one instance method is used'"
            ]
          },
          "execution_count": 74,
          "metadata": {},
          "output_type": "execute_result"
        }
      ],
      "source": [
        "# details in class\n",
        "Employee.__doc__"
      ]
    },
    {
      "cell_type": "code",
      "execution_count": 75,
      "metadata": {
        "colab": {
          "base_uri": "https://localhost:8080/",
          "height": 35
        },
        "id": "BVqskjhpKi3v",
        "outputId": "b1a496d9-056f-4363-8645-4cfb5c1af667"
      },
      "outputs": [
        {
          "data": {
            "application/vnd.google.colaboratory.intrinsic+json": {
              "type": "string"
            },
            "text/plain": [
              "'Employee'"
            ]
          },
          "execution_count": 75,
          "metadata": {},
          "output_type": "execute_result"
        }
      ],
      "source": [
        "# print name of class\n",
        "Employee.__name__"
      ]
    },
    {
      "cell_type": "code",
      "execution_count": 76,
      "metadata": {
        "colab": {
          "base_uri": "https://localhost:8080/",
          "height": 35
        },
        "id": "hzmeibd3Ki9L",
        "outputId": "aa60bffb-82a9-4f2c-baaa-f701b70225f3"
      },
      "outputs": [
        {
          "data": {
            "application/vnd.google.colaboratory.intrinsic+json": {
              "type": "string"
            },
            "text/plain": [
              "'__main__'"
            ]
          },
          "execution_count": 76,
          "metadata": {},
          "output_type": "execute_result"
        }
      ],
      "source": [
        "Employee.__module__"
      ]
    },
    {
      "cell_type": "code",
      "execution_count": 77,
      "metadata": {
        "id": "X1hey3N9KzQ7"
      },
      "outputs": [],
      "source": [
        "class Employee:\n",
        "    # class variables\n",
        "    company_name = 'PAEC'\n",
        "\n",
        "    def __init__(self,name,age):\n",
        "        self.name= name\n",
        "        self.age=age\n",
        "\n",
        "    def display(self):\n",
        "        print(f'name is {self.name},age is {self.age}:')\n",
        "\n",
        "\n",
        "e3 = Employee('Bilal',42)\n",
        "e4 = Employee('haroon',30)"
      ]
    },
    {
      "cell_type": "code",
      "execution_count": 78,
      "metadata": {
        "colab": {
          "base_uri": "https://localhost:8080/",
          "height": 35
        },
        "id": "eNRG3l90LDNY",
        "outputId": "d275e76a-4f3b-4574-f493-c803b645f2ee"
      },
      "outputs": [
        {
          "data": {
            "application/vnd.google.colaboratory.intrinsic+json": {
              "type": "string"
            },
            "text/plain": [
              "'PAEC'"
            ]
          },
          "execution_count": 78,
          "metadata": {},
          "output_type": "execute_result"
        }
      ],
      "source": [
        "Employee.company_name"
      ]
    },
    {
      "cell_type": "code",
      "execution_count": 79,
      "metadata": {
        "id": "eiO4FC0kLGl-"
      },
      "outputs": [],
      "source": [
        "Employee.company_name='TCS'"
      ]
    },
    {
      "cell_type": "code",
      "execution_count": 80,
      "metadata": {
        "id": "QtxhAT4SLQDM"
      },
      "outputs": [],
      "source": [
        "e4.company_name='POOL'"
      ]
    },
    {
      "cell_type": "code",
      "execution_count": 81,
      "metadata": {
        "colab": {
          "base_uri": "https://localhost:8080/",
          "height": 35
        },
        "id": "nnh8w_PjLSJx",
        "outputId": "d7e3c027-3fb9-44d9-c856-e0a15447d072"
      },
      "outputs": [
        {
          "data": {
            "application/vnd.google.colaboratory.intrinsic+json": {
              "type": "string"
            },
            "text/plain": [
              "'POOL'"
            ]
          },
          "execution_count": 81,
          "metadata": {},
          "output_type": "execute_result"
        }
      ],
      "source": [
        "e4.company_name"
      ]
    },
    {
      "cell_type": "code",
      "execution_count": 82,
      "metadata": {
        "colab": {
          "base_uri": "https://localhost:8080/"
        },
        "id": "MOWbi_ZdLcRv",
        "outputId": "afacf864-0db6-405a-ceb6-e5f6bb3fd9b6"
      },
      "outputs": [
        {
          "data": {
            "text/plain": [
              "{'name': 'haroon', 'age': 30, 'company_name': 'POOL'}"
            ]
          },
          "execution_count": 82,
          "metadata": {},
          "output_type": "execute_result"
        }
      ],
      "source": [
        "e4.__dict__"
      ]
    },
    {
      "cell_type": "code",
      "execution_count": 83,
      "metadata": {
        "colab": {
          "base_uri": "https://localhost:8080/"
        },
        "id": "-jei9gQFLeQw",
        "outputId": "a4840d2d-85c1-46a5-b815-2983cc09e404"
      },
      "outputs": [
        {
          "data": {
            "text/plain": [
              "{'name': 'Bilal', 'age': 42}"
            ]
          },
          "execution_count": 83,
          "metadata": {},
          "output_type": "execute_result"
        }
      ],
      "source": [
        "e3.__dict__"
      ]
    },
    {
      "cell_type": "code",
      "execution_count": 84,
      "metadata": {
        "colab": {
          "base_uri": "https://localhost:8080/"
        },
        "id": "UFHLiVH_rrM-",
        "outputId": "d6983a29-9086-45c8-9e47-2ac0a53f3c14"
      },
      "outputs": [
        {
          "name": "stdout",
          "output_type": "stream",
          "text": [
            "30\n",
            "-10\n"
          ]
        }
      ],
      "source": [
        "# Class\n",
        "\n",
        "class Number:\n",
        "    # constructor : which run by default\n",
        "    def __init__(self,num1,num2):\n",
        "        self.num1 = num1\n",
        "        self.num2 = num2\n",
        "\n",
        "    def Addition(self):\n",
        "        return (self.num1 + self.num2)\n",
        "\n",
        "    def Subtraction(self):\n",
        "        return (self.num1 - self.num2)\n",
        "\n",
        "\n",
        "obj = Number(10 , 20)\n",
        "print(obj.Addition())\n",
        "print(obj.Subtraction())"
      ]
    },
    {
      "cell_type": "code",
      "execution_count": 85,
      "metadata": {
        "id": "QQHylDNvuo86"
      },
      "outputs": [],
      "source": [
        "# make a class in which we place a function of multiplication and division"
      ]
    },
    {
      "cell_type": "code",
      "execution_count": 8,
      "metadata": {
        "colab": {
          "base_uri": "https://localhost:8080/"
        },
        "id": "HWnra_htvb5c",
        "outputId": "8e9f9556-f5f6-4dbb-ab87-afa98ab8a7dd"
      },
      "outputs": [
        {
          "name": "stdout",
          "output_type": "stream",
          "text": [
            "Asif\n",
            "30\n",
            "50000\n",
            "My name is Asif. I am 30 years old. My salary is 50000. My height is 5.5\n"
          ]
        },
        {
          "data": {
            "text/plain": [
              "{'name': 'Asif', 'age': 30, 'salary': 50000, 'height': 5.5}"
            ]
          },
          "execution_count": 8,
          "metadata": {},
          "output_type": "execute_result"
        }
      ],
      "source": [
        "class Employee:\n",
        "    def __init__(self,name,age,salary):\n",
        "        self.name = name\n",
        "        self.age = age\n",
        "        self.salary = salary\n",
        "        self.height = 5.5\n",
        "\n",
        "    def show(self, height):\n",
        "        print(f'My name is {self.name}. I am {self.age} years old. My salary is {self.salary}. My height is {height}')\n",
        "\n",
        "e1 = Employee('Asif' , 30 , 50000)\n",
        "\n",
        "print(e1.name)\n",
        "print(e1.age)\n",
        "print(e1.salary)\n",
        "\n",
        "e1.show(5.5)\n",
        "\n",
        "e1.__dict__"
      ]
    },
    {
      "cell_type": "markdown",
      "metadata": {
        "id": "GfWVe1Ie33su"
      },
      "source": [
        "#1- Inheritance\n",
        "\n",
        "Information pass from parent to child."
      ]
    },
    {
      "cell_type": "code",
      "execution_count": 87,
      "metadata": {
        "colab": {
          "base_uri": "https://localhost:8080/"
        },
        "id": "Zpcrv6fG4Gh6",
        "outputId": "d7632a88-1932-4086-d2b4-6683c7b02989"
      },
      "outputs": [
        {
          "name": "stdout",
          "output_type": "stream",
          "text": [
            "I am in Parent class\n",
            "I am in Parent Constructor\n",
            "My name is Asif. I am 32 years old.\n",
            "I am in Child Constructor\n",
            "I am in Parent Constructor\n",
            "My name is Asif. I am 34 years old.\n",
            "My salary is 50000\n"
          ]
        }
      ],
      "source": [
        "# I want to use inheritance\n",
        "class Human:\n",
        "    print(\"I am in Parent class\")\n",
        "    def __init__(self,name,age):\n",
        "        print(\"I am in Parent Constructor\")\n",
        "        self.name = name\n",
        "        self.age = age\n",
        "\n",
        "    def show(self):\n",
        "        print(f'My name is {self.name}. I am {self.age} years old.')\n",
        "\n",
        "\n",
        "obj = Human('Asif', 32)\n",
        "obj.show()\n",
        "\n",
        "class Male(Human):\n",
        "    def __init__(self,name,age,salary):\n",
        "        print(\"I am in Child Constructor\")\n",
        "        super().__init__(name,age)\n",
        "        self.salary = salary\n",
        "\n",
        "    def show(self):\n",
        "        super().show()\n",
        "        print(f'My salary is {self.salary}')\n",
        "\n",
        "child_obj = Male('Asif',34,50000)\n",
        "child_obj.show()"
      ]
    },
    {
      "cell_type": "code",
      "execution_count": null,
      "metadata": {
        "id": "wgW7Rmq6-jpT"
      },
      "outputs": [],
      "source": [
        "class Father:\n",
        "    def __init__(self):\n",
        "        print('father constructor called')\n",
        "        self.vehicle='bike'\n",
        "\n",
        "class Son(Father):\n",
        "    def __init__(self):\n",
        "        print('son consturctor called')\n",
        "        self.vehicle='BMW'\n",
        "    pass"
      ]
    },
    {
      "cell_type": "code",
      "execution_count": 89,
      "metadata": {
        "colab": {
          "base_uri": "https://localhost:8080/"
        },
        "id": "AGFj7igl-qOy",
        "outputId": "0b827511-0833-4470-edcf-8f23e9b01f8c"
      },
      "outputs": [
        {
          "name": "stdout",
          "output_type": "stream",
          "text": [
            "father constructor called\n",
            "{'vehicle': 'bike'}\n",
            "son consturctor called\n",
            "{'vehicle': 'BMW'}\n"
          ]
        }
      ],
      "source": [
        "a = Father()\n",
        "print(a.__dict__)\n",
        "s = Son()\n",
        "print(s.__dict__)"
      ]
    },
    {
      "cell_type": "markdown",
      "metadata": {
        "id": "e7WkfzTu_Cy9"
      },
      "source": [
        "# Super class"
      ]
    },
    {
      "cell_type": "code",
      "execution_count": 15,
      "metadata": {
        "id": "E_yFkvoM-1Kh"
      },
      "outputs": [],
      "source": [
        "class Computer:\n",
        "    def __init__(self):\n",
        "        self.ram='8GB'\n",
        "        self.storage='512GB'\n",
        "        self.processor='i5'\n",
        "        #print('computer class constructor called')\n",
        "        \n",
        "    def show(self):\n",
        "        print(\"RAM:\",self.ram)\n",
        "        print(\"Storage:\",self.storage)\n",
        "        print(\"Processor:\",self.processor)\n",
        "\n",
        "class Mobile(Computer):\n",
        "    def __init__(self):\n",
        "        super().__init__()\n",
        "        self.model='vivo'\n",
        "        #print('Mobile class constructor called')\n",
        "        \n",
        "    def show(self):\n",
        "        super().show()\n",
        "        print(\"Model:\",self.model)"
      ]
    },
    {
      "cell_type": "code",
      "execution_count": 16,
      "metadata": {
        "colab": {
          "base_uri": "https://localhost:8080/"
        },
        "id": "wVHELksI_L3r",
        "outputId": "b3b04c9e-698e-47b4-8da7-150bb9feca0f"
      },
      "outputs": [
        {
          "name": "stdout",
          "output_type": "stream",
          "text": [
            "RAM: 8GB\n",
            "Storage: 512GB\n",
            "Processor: i5\n",
            "Model: vivo\n"
          ]
        }
      ],
      "source": [
        "# m = Mobile()\n",
        "# m.__dict__\n",
        "\n",
        "# parentobj = Computer()\n",
        "# parentobj.show()\n",
        "\n",
        "childobj = Mobile()\n",
        "childobj.show()"
      ]
    },
    {
      "cell_type": "markdown",
      "metadata": {
        "id": "v_6nueHlPi5-"
      },
      "source": [
        "#2- Encapsulation\n",
        "\n",
        "Encapsulation restricts access to certain components, which can prevent the accidental modification of data."
      ]
    },
    {
      "cell_type": "code",
      "execution_count": 92,
      "metadata": {
        "colab": {
          "base_uri": "https://localhost:8080/"
        },
        "id": "sVIXmwklPhxK",
        "outputId": "eb6804c6-af22-402e-d2b4-aaa2d79e58ea"
      },
      "outputs": [
        {
          "name": "stdout",
          "output_type": "stream",
          "text": [
            "200\n",
            "250\n"
          ]
        }
      ],
      "source": [
        "class Car:\n",
        "    def __init__(self, max_speed):\n",
        "        self.__max_speed = max_speed  # Private attribute\n",
        "\n",
        "    def get_max_speed(self):\n",
        "        return self.__max_speed  # Getter method\n",
        "\n",
        "    def set_max_speed(self, speed):\n",
        "        if speed > 0:\n",
        "            self.__max_speed = speed  # Setter method\n",
        "\n",
        "# Create an instance of the Car class\n",
        "car1 = Car(200)\n",
        "\n",
        "# Access the private attribute using the getter method\n",
        "print(car1.get_max_speed())\n",
        "\n",
        "# Modify the private attribute using the setter method\n",
        "car1.set_max_speed(250)\n",
        "\n",
        "# Access the updated attribute using the getter method\n",
        "print(car1.get_max_speed())"
      ]
    },
    {
      "cell_type": "markdown",
      "metadata": {
        "id": "a9HXZlhwP1kx"
      },
      "source": [
        "# 5- Abstraction\n",
        "\n",
        "Abstraction hides the complex reality while exposing only the necessary parts."
      ]
    },
    {
      "cell_type": "code",
      "execution_count": null,
      "metadata": {
        "colab": {
          "base_uri": "https://localhost:8080/"
        },
        "id": "eKwoudKQP8gH",
        "outputId": "dc396511-8850-4e05-f793-ccaf18a7a2a8"
      },
      "outputs": [
        {
          "name": "stdout",
          "output_type": "stream",
          "text": [
            "Rectangle Area: 200\n",
            "Rectangle Perimeter: 60\n",
            "Circle Area: 78.54\n",
            "Circle Perimeter: 31.42\n"
          ]
        }
      ],
      "source": [
        "from abc import ABC, abstractmethod\n",
        "\n",
        "# Step 2: Define an Abstract Class\n",
        "class Shape(ABC):\n",
        "    # Step 3: Define Abstract Methods\n",
        "    @abstractmethod\n",
        "    def area(self):\n",
        "        pass\n",
        "\n",
        "    @abstractmethod\n",
        "    def perimeter(self):\n",
        "        pass\n",
        "\n",
        "# Step 4: Create Concrete Subclasses\n",
        "class Rectangle(Shape):\n",
        "    def __init__(self, width, height):\n",
        "        self.width = width\n",
        "        self.height = height\n",
        "\n",
        "    def area(self):\n",
        "        return self.width * self.height\n",
        "\n",
        "    def perimeter(self):\n",
        "        return 2 * (self.width + self.height)\n",
        "\n",
        "class Circle(Shape):\n",
        "    def __init__(self, radius):\n",
        "        self.radius = radius\n",
        "\n",
        "    def area(self):\n",
        "        import math\n",
        "        return math.pi * self.radius ** 2\n",
        "\n",
        "    def perimeter(self):\n",
        "        import math\n",
        "        return 2 * math.pi * self.radius\n",
        "\n",
        "\n",
        "\n",
        "\n",
        "\n",
        "\n",
        "\n",
        "\n",
        "# Step 5: Instantiate and Use the Concrete Subclasses\n",
        "rect1 = Rectangle(10, 20)\n",
        "print(f\"Rectangle Area: {rect1.area()}\")\n",
        "print(f\"Rectangle Perimeter: {rect1.perimeter()}\")\n",
        "\n",
        "circle1 = Circle(5)\n",
        "print(f\"Circle Area: {circle1.area():.2f}\")\n",
        "print(f\"Circle Perimeter: {circle1.perimeter():.2f}\")"
      ]
    },
    {
      "cell_type": "code",
      "execution_count": null,
      "metadata": {},
      "outputs": [],
      "source": []
    }
  ],
  "metadata": {
    "colab": {
      "provenance": []
    },
    "kernelspec": {
      "display_name": "base",
      "language": "python",
      "name": "python3"
    },
    "language_info": {
      "codemirror_mode": {
        "name": "ipython",
        "version": 3
      },
      "file_extension": ".py",
      "mimetype": "text/x-python",
      "name": "python",
      "nbconvert_exporter": "python",
      "pygments_lexer": "ipython3",
      "version": "3.12.9"
    }
  },
  "nbformat": 4,
  "nbformat_minor": 0
}
