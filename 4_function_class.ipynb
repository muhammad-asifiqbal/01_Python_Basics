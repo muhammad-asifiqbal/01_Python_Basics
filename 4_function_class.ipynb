{
 "cells": [
  {
   "cell_type": "markdown",
   "metadata": {},
   "source": [
    "## Day 3(28-4-2024)"
   ]
  },
  {
   "cell_type": "markdown",
   "metadata": {},
   "source": [
    "## Functions"
   ]
  },
  {
   "cell_type": "code",
   "execution_count": 5,
   "metadata": {},
   "outputs": [
    {
     "name": "stdout",
     "output_type": "stream",
     "text": [
      "('apple', 'banana', 'cherry')\n",
      "Hello, we are in function\n",
      "('apple', 'kiwi', 'cherry')\n"
     ]
    }
   ],
   "source": [
    "def update_tuple(x):\n",
    "    print(\"Hello, we are in function\")\n",
    "    y = list(x)\n",
    "    y[1] = \"kiwi\"\n",
    "    x = tuple(y)\n",
    "    return x\n",
    "\n",
    "\n",
    "my_tuple = (\"apple\", \"banana\", \"cherry\")\n",
    "#my_list = [\"apple\", \"banana\", \"cherry\"]\n",
    "#my_set = {\"apple\", \"banana\", \"cherry\"}\n",
    "print(my_tuple)\n",
    "print(update_tuple(my_tuple))\n",
    "\n"
   ]
  },
  {
   "cell_type": "markdown",
   "metadata": {},
   "source": [
    "## Classes"
   ]
  },
  {
   "cell_type": "code",
   "execution_count": 6,
   "metadata": {},
   "outputs": [
    {
     "name": "stdout",
     "output_type": "stream",
     "text": [
      "Hello, we are in class\n",
      "Original tuple: ('apple', 'banana', 'cherry')\n",
      "Hello, we are in function\n",
      "Updated tuple: ('apple', 'kiwi', 'cherry')\n"
     ]
    }
   ],
   "source": [
    "class TupleModifier:\n",
    "    print(\"Hello, we are in class\")\n",
    "    def __init__(self, initial_tuple):\n",
    "        print(\"Initializing tuple modifier\")\n",
    "        self.tuple = initial_tuple\n",
    "    \n",
    "    def update_tuple(self):\n",
    "        print(\"Hello, we are in function\")\n",
    "        y = list(self.tuple)\n",
    "        y[1] = \"kiwi\"\n",
    "        self.tuple = tuple(y)\n",
    "        return self.tuple\n",
    "    \n",
    "    def get_tuple(self):\n",
    "        return self.tuple\n",
    "\n",
    "# Example usage\n",
    "my_tuple = (\"apple\", \"banana\", \"cherry\")\n",
    "print(\"Original tuple:\", my_tuple)\n",
    "\n",
    "# Create an instance of the TupleModifier class with the initial tuple\n",
    "modifier = TupleModifier(my_tuple)\n",
    "\n",
    "# Update the tuple\n",
    "updated_tuple = modifier.update_tuple()\n",
    "\n",
    "# Print the updated tuple\n",
    "print(\"Updated tuple:\", updated_tuple)\n"
   ]
  },
  {
   "cell_type": "markdown",
   "metadata": {},
   "source": [
    "**1. Class and Object**\n",
    "\n",
    "Class: A blueprint for creating objects (a particular data structure), defining initial values (attributes), and functions (methods).\n",
    "\n",
    "Object: An instance of a class."
   ]
  },
  {
   "cell_type": "code",
   "execution_count": 1,
   "metadata": {},
   "outputs": [
    {
     "name": "stdout",
     "output_type": "stream",
     "text": [
      "doggy\n",
      "3\n",
      "doggy says woof!\n"
     ]
    }
   ],
   "source": [
    "# Define a class\n",
    "class Dog:\n",
    "    # Initializer / Instance Attributes\n",
    "    def __init__(self, name, age):\n",
    "        self.name = name\n",
    "        self.age = age\n",
    "    \n",
    "    # Method\n",
    "    def bark(self):\n",
    "        return f\"{self.name} says woof!\"\n",
    "\n",
    "# Create an object\n",
    "dog1 = Dog(\"doggy\", 3)\n",
    "print(dog1.name)   # Output: Buddy\n",
    "print(dog1.age)    # Output: 3\n",
    "print(dog1.bark()) # Output: Buddy says woof!\n"
   ]
  },
  {
   "cell_type": "markdown",
   "metadata": {},
   "source": [
    "**1. Inheritance**\n",
    "\n",
    "Inheritance allows one class to inherit the attributes and methods from another class."
   ]
  },
  {
   "cell_type": "code",
   "execution_count": 2,
   "metadata": {},
   "outputs": [
    {
     "name": "stdout",
     "output_type": "stream",
     "text": [
      "Buddy says woof!\n",
      "Whiskers says meow!\n"
     ]
    }
   ],
   "source": [
    "# Parent class\n",
    "class Animal:\n",
    "    def __init__(self, name):\n",
    "        self.name = name\n",
    "    \n",
    "    def speak(self):\n",
    "        raise NotImplementedError(\"Subclass must implement abstract method\")\n",
    "\n",
    "# Child class (inherits from Animal)\n",
    "class Dog(Animal):\n",
    "    def speak(self):\n",
    "        return f\"{self.name} says woof!\"\n",
    "\n",
    "# Another child class\n",
    "class Cat(Animal):\n",
    "    def speak(self):\n",
    "        return f\"{self.name} says meow!\"\n",
    "\n",
    "dog1 = Dog(\"Buddy\")\n",
    "cat1 = Cat(\"Whiskers\")\n",
    "print(dog1.speak())  # Output: Buddy says woof!\n",
    "print(cat1.speak())  # Output: Whiskers says meow!\n"
   ]
  },
  {
   "cell_type": "markdown",
   "metadata": {},
   "source": [
    "**2. Encapsulation**\n",
    "\n",
    "Encapsulation restricts access to certain components, which can prevent the accidental modification of data."
   ]
  },
  {
   "cell_type": "code",
   "execution_count": 3,
   "metadata": {},
   "outputs": [
    {
     "name": "stdout",
     "output_type": "stream",
     "text": [
      "200\n",
      "250\n"
     ]
    }
   ],
   "source": [
    "class Car:\n",
    "    def __init__(self, max_speed):\n",
    "        self.__max_speed = max_speed  # Private attribute\n",
    "    \n",
    "    def get_max_speed(self):\n",
    "        return self.__max_speed  # Getter method\n",
    "    \n",
    "    def set_max_speed(self, speed):\n",
    "        if speed > 0:\n",
    "            self.__max_speed = speed  # Setter method\n",
    "\n",
    "# Create an instance of the Car class\n",
    "car1 = Car(200)\n",
    "\n",
    "# Access the private attribute using the getter method\n",
    "print(car1.get_max_speed()) \n",
    "\n",
    "# Modify the private attribute using the setter method\n",
    "car1.set_max_speed(250)\n",
    "\n",
    "# Access the updated attribute using the getter method\n",
    "print(car1.get_max_speed()) \n"
   ]
  },
  {
   "cell_type": "markdown",
   "metadata": {},
   "source": [
    "**5. Abstraction**\n",
    "\n",
    "Abstraction hides the complex reality while exposing only the necessary parts."
   ]
  },
  {
   "cell_type": "code",
   "execution_count": 5,
   "metadata": {},
   "outputs": [
    {
     "name": "stdout",
     "output_type": "stream",
     "text": [
      "Rectangle Area: 200\n",
      "Rectangle Perimeter: 60\n",
      "Circle Area: 78.54\n",
      "Circle Perimeter: 31.42\n"
     ]
    }
   ],
   "source": [
    "from abc import ABC, abstractmethod\n",
    "\n",
    "# Step 2: Define an Abstract Class\n",
    "class Shape(ABC):\n",
    "    # Step 3: Define Abstract Methods\n",
    "    @abstractmethod\n",
    "    def area(self):\n",
    "        pass\n",
    "    \n",
    "    @abstractmethod\n",
    "    def perimeter(self):\n",
    "        pass\n",
    "\n",
    "# Step 4: Create Concrete Subclasses\n",
    "class Rectangle(Shape):\n",
    "    def __init__(self, width, height):\n",
    "        self.width = width\n",
    "        self.height = height\n",
    "    \n",
    "    def area(self):\n",
    "        return self.width * self.height\n",
    "    \n",
    "    def perimeter(self):\n",
    "        return 2 * (self.width + self.height)\n",
    "\n",
    "class Circle(Shape):\n",
    "    def __init__(self, radius):\n",
    "        self.radius = radius\n",
    "    \n",
    "    def area(self):\n",
    "        import math\n",
    "        return math.pi * self.radius ** 2\n",
    "    \n",
    "    def perimeter(self):\n",
    "        import math\n",
    "        return 2 * math.pi * self.radius\n",
    "\n",
    "# Step 5: Instantiate and Use the Concrete Subclasses\n",
    "rect1 = Rectangle(10, 20)\n",
    "print(f\"Rectangle Area: {rect1.area()}\")       \n",
    "print(f\"Rectangle Perimeter: {rect1.perimeter()}\") \n",
    "\n",
    "circle1 = Circle(5)\n",
    "print(f\"Circle Area: {circle1.area():.2f}\")     \n",
    "print(f\"Circle Perimeter: {circle1.perimeter():.2f}\") \n"
   ]
  },
  {
   "cell_type": "code",
   "execution_count": null,
   "metadata": {},
   "outputs": [],
   "source": []
  }
 ],
 "metadata": {
  "kernelspec": {
   "display_name": "ml_env",
   "language": "python",
   "name": "python3"
  },
  "language_info": {
   "codemirror_mode": {
    "name": "ipython",
    "version": 3
   },
   "file_extension": ".py",
   "mimetype": "text/x-python",
   "name": "python",
   "nbconvert_exporter": "python",
   "pygments_lexer": "ipython3",
   "version": "3.11.7"
  }
 },
 "nbformat": 4,
 "nbformat_minor": 2
}
